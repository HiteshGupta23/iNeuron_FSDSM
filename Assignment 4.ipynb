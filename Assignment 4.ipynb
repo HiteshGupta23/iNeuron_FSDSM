{
 "cells": [
  {
   "cell_type": "markdown",
   "id": "a6d6fffa",
   "metadata": {},
   "source": [
    "# 1. What exactly is []?"
   ]
  },
  {
   "cell_type": "markdown",
   "id": "a041bb46",
   "metadata": {},
   "source": [
    "Ans: [] denotes an empty list, i.e. the list does not have any items in it."
   ]
  },
  {
   "cell_type": "markdown",
   "id": "92a2705f",
   "metadata": {},
   "source": [
    "# 2. In a list of values stored in a variable called spam, how would you assign the value 'hello'; as the third value? (Assume [2, 4, 6, 8, 10] are in spam.)"
   ]
  },
  {
   "cell_type": "code",
   "execution_count": 1,
   "id": "53516995",
   "metadata": {},
   "outputs": [
    {
     "data": {
      "text/plain": [
       "[2, 4, 'hello', 8, 10]"
      ]
     },
     "execution_count": 1,
     "metadata": {},
     "output_type": "execute_result"
    }
   ],
   "source": [
    "spam = [2,4,6,8, 10]\n",
    "spam[2]= \"hello\"\n",
    "spam"
   ]
  },
  {
   "cell_type": "markdown",
   "id": "004c11c1",
   "metadata": {},
   "source": [
    "# 3. What is the value of spam[int(int('3' * 2) / 11)]?"
   ]
  },
  {
   "cell_type": "code",
   "execution_count": 2,
   "id": "a7dbae7b",
   "metadata": {},
   "outputs": [
    {
     "data": {
      "text/plain": [
       "'d'"
      ]
     },
     "execution_count": 2,
     "metadata": {},
     "output_type": "execute_result"
    }
   ],
   "source": [
    "spam=['a','b','c','d']\n",
    "spam[int(int('3' * 2) / 11)]"
   ]
  },
  {
   "cell_type": "markdown",
   "id": "1edc7acf",
   "metadata": {},
   "source": [
    "# 4. What is the value of spam[-1]?"
   ]
  },
  {
   "cell_type": "code",
   "execution_count": 3,
   "id": "6aecb627",
   "metadata": {},
   "outputs": [
    {
     "data": {
      "text/plain": [
       "'d'"
      ]
     },
     "execution_count": 3,
     "metadata": {},
     "output_type": "execute_result"
    }
   ],
   "source": [
    "spam[-1]"
   ]
  },
  {
   "cell_type": "markdown",
   "id": "154cc35a",
   "metadata": {},
   "source": [
    "# 5. What is the value of spam[:2]?"
   ]
  },
  {
   "cell_type": "code",
   "execution_count": 4,
   "id": "940a7a51",
   "metadata": {},
   "outputs": [
    {
     "data": {
      "text/plain": [
       "['a', 'b']"
      ]
     },
     "execution_count": 4,
     "metadata": {},
     "output_type": "execute_result"
    }
   ],
   "source": [
    "spam[:2]"
   ]
  },
  {
   "cell_type": "markdown",
   "id": "a883d596",
   "metadata": {},
   "source": [
    "# 6. What is the value of bacon.index('cat')?"
   ]
  },
  {
   "cell_type": "code",
   "execution_count": 5,
   "id": "325db7c7",
   "metadata": {},
   "outputs": [
    {
     "data": {
      "text/plain": [
       "1"
      ]
     },
     "execution_count": 5,
     "metadata": {},
     "output_type": "execute_result"
    }
   ],
   "source": [
    "bacon =  [3.14, 'cat', 11, 'cat', True]\n",
    "bacon.index('cat')"
   ]
  },
  {
   "cell_type": "markdown",
   "id": "374b9627",
   "metadata": {},
   "source": [
    "# 7. How does bacon.append(99) change the look of the list value in bacon?"
   ]
  },
  {
   "cell_type": "code",
   "execution_count": 6,
   "id": "2002b072",
   "metadata": {},
   "outputs": [
    {
     "data": {
      "text/plain": [
       "[3.14, 'cat', 11, 'cat', True, 99]"
      ]
     },
     "execution_count": 6,
     "metadata": {},
     "output_type": "execute_result"
    }
   ],
   "source": [
    "bacon.append(99)\n",
    "bacon"
   ]
  },
  {
   "cell_type": "markdown",
   "id": "e0fba80f",
   "metadata": {},
   "source": [
    "# 8. How does bacon.remove('cat') change the look of the list in bacon?"
   ]
  },
  {
   "cell_type": "code",
   "execution_count": 7,
   "id": "2d940077",
   "metadata": {},
   "outputs": [
    {
     "data": {
      "text/plain": [
       "[3.14, 11, 'cat', True, 99]"
      ]
     },
     "execution_count": 7,
     "metadata": {},
     "output_type": "execute_result"
    }
   ],
   "source": [
    "bacon.remove('cat')  #removes first occurence\n",
    "bacon"
   ]
  },
  {
   "cell_type": "markdown",
   "id": "775e23a0",
   "metadata": {},
   "source": [
    "# 9. What are the list concatenation and list replication operators?"
   ]
  },
  {
   "cell_type": "markdown",
   "id": "4d647c4f",
   "metadata": {},
   "source": [
    "Ans: '+' is list concatenation operator and the list replication operator is '*'."
   ]
  },
  {
   "cell_type": "code",
   "execution_count": 12,
   "id": "f787d3d8",
   "metadata": {},
   "outputs": [
    {
     "name": "stdout",
     "output_type": "stream",
     "text": [
      "[73, 21, 55, 23, 12, 11]\n",
      "[73, 21, 55, 73, 21, 55, 73, 21, 55]\n"
     ]
    }
   ],
   "source": [
    "a = [73, 21, 55]\n",
    "b = [23, 12, 11]\n",
    "print(a+b)\n",
    "print(a*3)"
   ]
  },
  {
   "cell_type": "markdown",
   "id": "224b57ab",
   "metadata": {},
   "source": [
    "# 10. What is difference between the list methods append() and insert()?"
   ]
  },
  {
   "cell_type": "markdown",
   "id": "01591ec3",
   "metadata": {},
   "source": [
    "Ans: append() method appends item/object at the end of the list and insert() method insert item/object at provided index."
   ]
  },
  {
   "cell_type": "code",
   "execution_count": 13,
   "id": "439310ef",
   "metadata": {},
   "outputs": [
    {
     "name": "stdout",
     "output_type": "stream",
     "text": [
      "[3.14, 'cat', 11, 'cat', True, 99]\n",
      "[3.14, 'cat', 11, 'cat', 'apple', True]\n"
     ]
    }
   ],
   "source": [
    "bacon =  [3.14, 'cat', 11, 'cat', True]\n",
    "bacon.append(99)\n",
    "print(bacon)\n",
    "\n",
    "bacon =  [3.14, 'cat', 11, 'cat', True]\n",
    "bacon.insert(4, 'apple')\n",
    "print(bacon)"
   ]
  },
  {
   "cell_type": "markdown",
   "id": "3f9b895f",
   "metadata": {},
   "source": [
    "# 11. What are the two methods for removing items from a list?"
   ]
  },
  {
   "cell_type": "code",
   "execution_count": 16,
   "id": "5908ff99",
   "metadata": {},
   "outputs": [
    {
     "name": "stdout",
     "output_type": "stream",
     "text": [
      "['cat', 11, 'cat', True]\n",
      "[3.14, 'cat', 11, 'cat', 'apple']\n"
     ]
    }
   ],
   "source": [
    "bacon = [3.14, 'cat', 11, 'cat', True]\n",
    "bacon.remove(3.14)\n",
    "print(bacon)\n",
    "\n",
    "bacon = [3.14, 'cat', 11, 'cat', 'apple', True]\n",
    "bacon.pop();\n",
    "print(bacon)"
   ]
  },
  {
   "cell_type": "markdown",
   "id": "ea235e07",
   "metadata": {},
   "source": [
    "# 12. Describe how list values and string values are identical."
   ]
  },
  {
   "cell_type": "markdown",
   "id": "b8adfa37",
   "metadata": {},
   "source": [
    "Ans: 1. Both lists and strings can be passed to len().\n",
    "     2. Have indexes and slices.\n",
    "     3. Can be used in for loops.\n",
    "     4. Can be concatenated or replicated.\n",
    "     5. Can be used with the in and not in operators."
   ]
  },
  {
   "cell_type": "markdown",
   "id": "366aaf4d",
   "metadata": {},
   "source": [
    "# 13. What's the difference between tuples and lists?"
   ]
  },
  {
   "cell_type": "markdown",
   "id": "0d148349",
   "metadata": {},
   "source": [
    "Ans: Tuples are immutable i.e. it's value once provided cannot be changed and is written in parenthesis().\n",
    "     Lists are mutable i.e. they can have values added, removed, or changed and is written in square brackets[]."
   ]
  },
  {
   "cell_type": "markdown",
   "id": "feaf999a",
   "metadata": {},
   "source": [
    "# 14. How do you type a tuple value that only contains the integer 42?"
   ]
  },
  {
   "cell_type": "code",
   "execution_count": 17,
   "id": "dbb0becb",
   "metadata": {},
   "outputs": [
    {
     "data": {
      "text/plain": [
       "42"
      ]
     },
     "execution_count": 17,
     "metadata": {},
     "output_type": "execute_result"
    }
   ],
   "source": [
    "tup = (42)\n",
    "tup"
   ]
  },
  {
   "cell_type": "markdown",
   "id": "aac1b782",
   "metadata": {},
   "source": [
    "# 15. How do you get a list value's tuple form? How do you get a tuple value's list form?"
   ]
  },
  {
   "cell_type": "markdown",
   "id": "0e1a57ba",
   "metadata": {},
   "source": [
    "Ans: By using tuple() in list function and list() function in tuple."
   ]
  },
  {
   "cell_type": "code",
   "execution_count": 19,
   "id": "e859f1c4",
   "metadata": {},
   "outputs": [
    {
     "data": {
      "text/plain": [
       "(6, 7)"
      ]
     },
     "execution_count": 19,
     "metadata": {},
     "output_type": "execute_result"
    }
   ],
   "source": [
    "lst = [6,7]\n",
    "l = tuple(lst)\n",
    "l"
   ]
  },
  {
   "cell_type": "code",
   "execution_count": 20,
   "id": "33679daf",
   "metadata": {},
   "outputs": [
    {
     "data": {
      "text/plain": [
       "[2, 3]"
      ]
     },
     "execution_count": 20,
     "metadata": {},
     "output_type": "execute_result"
    }
   ],
   "source": [
    "tup = (2,3)\n",
    "t = list(tup)\n",
    "t"
   ]
  },
  {
   "cell_type": "markdown",
   "id": "3df68d30",
   "metadata": {},
   "source": [
    "# 16. Variables that \"contain\" list values are not necessarily lists themselves. Instead, what do they contain?"
   ]
  },
  {
   "cell_type": "markdown",
   "id": "722b561f",
   "metadata": {},
   "source": [
    "Ans: They contain references to list values."
   ]
  },
  {
   "cell_type": "markdown",
   "id": "29080cc1",
   "metadata": {},
   "source": [
    "# 17. How do you distinguish between copy.copy() and copy.deepcopy()?"
   ]
  },
  {
   "cell_type": "markdown",
   "id": "8c34a9ac",
   "metadata": {},
   "source": [
    "Ans: copy.copy() makes a shallow copy, which means that it creates a new object and inserts references to the original objects inside it. \n",
    "copy.deepcopy() makes a deep copy, which means that it creates a new object and recursively inserts copies of the original objects inside it. This is useful for copying iterables that contain other iterables."
   ]
  }
 ],
 "metadata": {
  "kernelspec": {
   "display_name": "Python 3 (ipykernel)",
   "language": "python",
   "name": "python3"
  },
  "language_info": {
   "codemirror_mode": {
    "name": "ipython",
    "version": 3
   },
   "file_extension": ".py",
   "mimetype": "text/x-python",
   "name": "python",
   "nbconvert_exporter": "python",
   "pygments_lexer": "ipython3",
   "version": "3.10.9"
  }
 },
 "nbformat": 4,
 "nbformat_minor": 5
}
