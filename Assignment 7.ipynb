{
 "cells": [
  {
   "cell_type": "markdown",
   "id": "f1e40988",
   "metadata": {},
   "source": [
    "# Assignment 7"
   ]
  },
  {
   "cell_type": "markdown",
   "id": "3c052fa4",
   "metadata": {},
   "source": [
    "### Q.1. Create two int type variables, apply addition, subtraction, division and multiplications and store the results in variables. Then print the data in the following format by calling the variables:\n",
    "\n",
    "First variable is __ & second variable is __\n",
    "\n",
    "Addition: __ + __ = __\n",
    "\n",
    "Subtraction: __ - __ = __\n",
    "\n",
    "Multiplication: __ * __ = __\n",
    "\n",
    "Division: __ / __ = __"
   ]
  },
  {
   "cell_type": "code",
   "execution_count": 2,
   "id": "a2b05274",
   "metadata": {},
   "outputs": [
    {
     "name": "stdout",
     "output_type": "stream",
     "text": [
      "First variable is 5 & second variable is 3\n",
      "Addition:  5 + 3 =  8\n",
      "Subtraction:  5 - 3 =  2\n",
      "Multiplication:  5 * 3 =  15\n",
      "Division:  5 / 3 =  1.6666666666666667\n"
     ]
    }
   ],
   "source": [
    "a = 5\n",
    "b = 3\n",
    "print(\"First variable is\", a, \"& second variable is\", b)\n",
    "print(\"Addition: \", a, \"+\",  b, \"= \", a+b)\n",
    "print(\"Subtraction: \", a, \"-\",  b, \"= \", a-b)\n",
    "print(\"Multiplication: \", a, \"*\",  b, \"= \", a*b)\n",
    "print(\"Division: \", a, \"/\",  b, \"= \", a/b)"
   ]
  },
  {
   "cell_type": "markdown",
   "id": "79466578",
   "metadata": {},
   "source": [
    "### Q.2. What is the difference between the following operators:\n",
    "(i) ‘/’ & ‘//’\n",
    "\n",
    "(ii) ‘**’ & ‘^’"
   ]
  },
  {
   "cell_type": "markdown",
   "id": "a6a13d1f",
   "metadata": {},
   "source": [
    "Ans(i): '/' is the division operator. It gives result in float type.\n",
    "'//' is the floor division operator. It round off the result to nearest integer.\n",
    "\n",
    "(ii): ' ** ' is exponential operator in python and '^' is XOR operator (bitwise operator)."
   ]
  },
  {
   "cell_type": "code",
   "execution_count": 3,
   "id": "47c22c43",
   "metadata": {},
   "outputs": [
    {
     "name": "stdout",
     "output_type": "stream",
     "text": [
      "1.6666666666666667\n",
      "1\n",
      "64\n",
      "10\n"
     ]
    }
   ],
   "source": [
    "#Example (i)\n",
    "x = 5\n",
    "y = 3\n",
    "print(x/y)\n",
    "print(x//y)\n",
    "\n",
    "\n",
    "#Example (ii)\n",
    "a = 8\n",
    "b = 2\n",
    "print(a**b)\n",
    "print(a^b)"
   ]
  },
  {
   "cell_type": "markdown",
   "id": "14981eab",
   "metadata": {},
   "source": [
    "### Q.3. List the logical operators."
   ]
  },
  {
   "cell_type": "markdown",
   "id": "68be2453",
   "metadata": {},
   "source": [
    "Ans: Given below are logical operators:\n",
    "\n",
    "(i)  'and' :      Returns True if both statements are true.\n",
    "\n",
    "(ii)  'or' :      Returns True if one of the statements is true.\n",
    "\n",
    "(iii)  'not' :    Reverse the result, returns False if the result is true."
   ]
  },
  {
   "cell_type": "markdown",
   "id": "a12c42af",
   "metadata": {},
   "source": [
    "### Q.4. Explain right shift operator and left shift operator with examples."
   ]
  },
  {
   "cell_type": "markdown",
   "id": "db3cdcb9",
   "metadata": {},
   "source": [
    "Ans: Right Shift Operator: The bitwise right shift operator in python shifts the bits of the binary representation of the input number to the right side by a specified number of places.\n",
    "The empty bits created by shifting the bits are filled by 0s.  \n",
    "The syntax for the bitwise right shift is a >> n. Here ‘a’ is the number whose bits will be shifted by ‘n’ places to the right.\n"
   ]
  },
  {
   "cell_type": "code",
   "execution_count": 4,
   "id": "f44a0b12",
   "metadata": {},
   "outputs": [
    {
     "data": {
      "text/plain": [
       "5"
      ]
     },
     "execution_count": 4,
     "metadata": {},
     "output_type": "execute_result"
    }
   ],
   "source": [
    "#Example\n",
    "a = 10  #0000 1010 #Binary\n",
    "a >> 1  #0000 0101 = 5"
   ]
  },
  {
   "cell_type": "markdown",
   "id": "6ed2c466",
   "metadata": {},
   "source": [
    "Left Shift Operator: The bitwise left shift operator in Python shifts the bits of the binary representation of the input number to the left side by a specified number of places. The empty bits created by shifting the bits are filled by 0s.\n",
    "The syntax for the bitwise left shift is a << n. Here ‘a’ is the number whose bits will be shifted by ‘n’ places to the left."
   ]
  },
  {
   "cell_type": "code",
   "execution_count": 5,
   "id": "57626e91",
   "metadata": {},
   "outputs": [
    {
     "data": {
      "text/plain": [
       "10"
      ]
     },
     "execution_count": 5,
     "metadata": {},
     "output_type": "execute_result"
    }
   ],
   "source": [
    "#Example\n",
    "a = 5  #0000 0101 (Binary)\n",
    "a << 1  #0000 1010 = 10 "
   ]
  },
  {
   "cell_type": "markdown",
   "id": "81587b63",
   "metadata": {},
   "source": [
    "### Q.5. Create a list containing int type data of length 15. Then write a code to check if 10 is present in the list or not."
   ]
  },
  {
   "cell_type": "code",
   "execution_count": 8,
   "id": "0b5c5451",
   "metadata": {},
   "outputs": [
    {
     "name": "stdout",
     "output_type": "stream",
     "text": [
      "Given list is [3, 7, 21, 9, 14, 10, 13, 45, 23, 18, 12, 1, 98, 20, 6]\n",
      "The length of the given list is: 15\n",
      "Yes, 10 is present in the list.\n"
     ]
    }
   ],
   "source": [
    "my_list = [3,7,21,9,14,10,13,45,23,18,12,1,98,20,6]\n",
    "print(\"Given list is\", my_list)\n",
    "print(\"The length of the given list is:\", len(my_list))\n",
    "\n",
    "if 10 in my_list:\n",
    "    print(\"Yes, 10 is present in the list.\")\n",
    "    \n",
    "else:\n",
    "    print(\"No, 10 is not present in the list.\")"
   ]
  }
 ],
 "metadata": {
  "kernelspec": {
   "display_name": "Python 3 (ipykernel)",
   "language": "python",
   "name": "python3"
  },
  "language_info": {
   "codemirror_mode": {
    "name": "ipython",
    "version": 3
   },
   "file_extension": ".py",
   "mimetype": "text/x-python",
   "name": "python",
   "nbconvert_exporter": "python",
   "pygments_lexer": "ipython3",
   "version": "3.10.9"
  }
 },
 "nbformat": 4,
 "nbformat_minor": 5
}
