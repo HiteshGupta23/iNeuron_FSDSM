{
 "cells": [
  {
   "cell_type": "markdown",
   "id": "08e0d811",
   "metadata": {},
   "source": [
    "1. In the below elements which of them are values or an expression? eg:- values can be\n",
    "integer or string and expressions will be mathematical operators.\n",
    "\n",
    "Ans: Values: 'hello' , -87.8 , 6\n",
    "     Expressions: * ,  - , / , +"
   ]
  },
  {
   "cell_type": "markdown",
   "id": "07620733",
   "metadata": {},
   "source": [
    "2. What is the difference between string and variable?\n",
    "\n",
    "Ans: String: Strings are used to fill up variables. It is typed in quotation marks.\n",
    "     Variable: Variables are containers for storing data values. It is case sensitive. Numbers cannot be variables."
   ]
  },
  {
   "cell_type": "markdown",
   "id": "3b7bc77b",
   "metadata": {},
   "source": [
    "3. Describe three different data types.\n",
    "\n",
    "Ans: String: It is text/alphabets/numbers typed in quotation marks. Denoted by 'str'\n",
    "     Dictionaries: It stores values in form of key value:pairs. \n",
    "     Boolean: It has two values only either 'True' or 'False'"
   ]
  },
  {
   "cell_type": "markdown",
   "id": "c1bdb8e9",
   "metadata": {},
   "source": [
    "4. What is an expression made up of? What do all expressions do?\n",
    "Ans: An expression is made of operands and operators. The expression produces some value or result after being interpreted by Python interpreter."
   ]
  },
  {
   "cell_type": "markdown",
   "id": "a803c38b",
   "metadata": {},
   "source": [
    "5. This assignment statements, like spam = 10. What is the difference between an\n",
    "   expression and a statement?\n",
    "\n",
    "Ans: In Python, expressions are combinations of values and operators that always evaluate down to a single value. Expressions can be used as part of a statement. Statements are complete lines of code that perform an action. They can contain expressions but don’t necessarily have to. Statements are executed one at a time and do not return a value. Expressions can be assigned to variables or used as operands in other expressions."
   ]
  },
  {
   "cell_type": "code",
   "execution_count": 1,
   "id": "64dcb591",
   "metadata": {},
   "outputs": [
    {
     "data": {
      "text/plain": [
       "23"
      ]
     },
     "execution_count": 1,
     "metadata": {},
     "output_type": "execute_result"
    }
   ],
   "source": [
    "#6.\n",
    "bacon = 22\n",
    "bacon+1"
   ]
  },
  {
   "cell_type": "code",
   "execution_count": 2,
   "id": "1fa23f7a",
   "metadata": {},
   "outputs": [
    {
     "data": {
      "text/plain": [
       "'spamspamspam'"
      ]
     },
     "execution_count": 2,
     "metadata": {},
     "output_type": "execute_result"
    }
   ],
   "source": [
    "#7. What should the values of the following two terms be?\n",
    "'spam' + 'spamspam'"
   ]
  },
  {
   "cell_type": "code",
   "execution_count": 3,
   "id": "decfc03e",
   "metadata": {},
   "outputs": [
    {
     "data": {
      "text/plain": [
       "'spamspamspam'"
      ]
     },
     "execution_count": 3,
     "metadata": {},
     "output_type": "execute_result"
    }
   ],
   "source": [
    "'spam'*3"
   ]
  },
  {
   "cell_type": "markdown",
   "id": "959e421f",
   "metadata": {},
   "source": [
    "8. Why is eggs a valid variable name while 100 is invalid?\n",
    "\n",
    "Ans: Variables name cannot have only numbers. Variable name should contain either alphabets only or alpha-numeric characters. It cannot start with number. It can have underscores and can start with underscores"
   ]
  },
  {
   "cell_type": "markdown",
   "id": "82f17eb0",
   "metadata": {},
   "source": [
    "9. What three functions can be used to get the integer, floating-point number, or string\n",
    "version of a value?\n",
    "\n",
    "Ans: "
   ]
  },
  {
   "cell_type": "code",
   "execution_count": 7,
   "id": "2bcd6798",
   "metadata": {
    "scrolled": true
   },
   "outputs": [
    {
     "ename": "TypeError",
     "evalue": "can only concatenate str (not \"int\") to str",
     "output_type": "error",
     "traceback": [
      "\u001b[1;31m---------------------------------------------------------------------------\u001b[0m",
      "\u001b[1;31mTypeError\u001b[0m                                 Traceback (most recent call last)",
      "Cell \u001b[1;32mIn[7], line 2\u001b[0m\n\u001b[0;32m      1\u001b[0m \u001b[38;5;66;03m#10. Why does this expression cause an error? How can you fix it?\u001b[39;00m\n\u001b[1;32m----> 2\u001b[0m \u001b[38;5;124;43m'\u001b[39;49m\u001b[38;5;124;43mI have eaten \u001b[39;49m\u001b[38;5;124;43m'\u001b[39;49m\u001b[43m \u001b[49m\u001b[38;5;241;43m+\u001b[39;49m\u001b[43m \u001b[49m\u001b[38;5;241;43m99\u001b[39;49m \u001b[38;5;241m+\u001b[39m \u001b[38;5;124m'\u001b[39m\u001b[38;5;124m burritos.\u001b[39m\u001b[38;5;124m'\u001b[39m\n",
      "\u001b[1;31mTypeError\u001b[0m: can only concatenate str (not \"int\") to str"
     ]
    }
   ],
   "source": [
    "#10. Why does this expression cause an error? How can you fix it?\n",
    "'I have eaten ' + 99 + ' burritos.'\n",
    "   \n",
    "#Ans: The error here is because the '+' operator cannot be used with strings and numbers together as python cannot concatenate \n",
    "#numbers and strings. To fix this we put number 99 in quotation marks so that python interpreter will treat it as string."
   ]
  },
  {
   "cell_type": "code",
   "execution_count": 5,
   "id": "ab3ab5c1",
   "metadata": {},
   "outputs": [
    {
     "data": {
      "text/plain": [
       "'I have eaten 99 burritos.'"
      ]
     },
     "execution_count": 5,
     "metadata": {},
     "output_type": "execute_result"
    }
   ],
   "source": [
    "'I have eaten ' + '99' + ' burritos.'"
   ]
  },
  {
   "cell_type": "code",
   "execution_count": null,
   "id": "15393082",
   "metadata": {},
   "outputs": [],
   "source": []
  }
 ],
 "metadata": {
  "kernelspec": {
   "display_name": "Python 3 (ipykernel)",
   "language": "python",
   "name": "python3"
  },
  "language_info": {
   "codemirror_mode": {
    "name": "ipython",
    "version": 3
   },
   "file_extension": ".py",
   "mimetype": "text/x-python",
   "name": "python",
   "nbconvert_exporter": "python",
   "pygments_lexer": "ipython3",
   "version": "3.10.9"
  }
 },
 "nbformat": 4,
 "nbformat_minor": 5
}
