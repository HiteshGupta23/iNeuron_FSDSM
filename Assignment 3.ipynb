{
 "cells": [
  {
   "cell_type": "markdown",
   "id": "11e56c79",
   "metadata": {},
   "source": [
    "1. Why are functions advantageous to have in your programs?\n",
    "\n",
    "Ans: Functions reduce the need for duplicate code. This makes programs shorter, easier to read, and easier to update.\n"
   ]
  },
  {
   "cell_type": "markdown",
   "id": "ad2c0cdb",
   "metadata": {},
   "source": [
    "2. When does the code in a function run: when it's specified or when it's called?\n",
    "\n",
    "Ans: The code in a function executes when the function is called, not when the function is defined.\n"
   ]
  },
  {
   "cell_type": "markdown",
   "id": "100a4973",
   "metadata": {},
   "source": [
    "3. What statement creates a function?\n",
    "\n",
    "Ans: The 'def' statement creates a function.\n"
   ]
  },
  {
   "cell_type": "markdown",
   "id": "ea7adb23",
   "metadata": {},
   "source": [
    "4. What is the difference between a function and a function call?\n",
    "\n",
    "Ans: A function consists of the def statement and the code in its def clause.\n",
    "\n",
    "A function call is what moves the program execution into the function, and the function call evaluates to the function’s return value.\n"
   ]
  },
  {
   "cell_type": "markdown",
   "id": "5fd77bac",
   "metadata": {},
   "source": [
    "5. How many global scopes are there in a Python program? How many local scopes?\n",
    "\n",
    "Ans: There is one global scope per program execution and a local scope is created whenever a function is called.\n"
   ]
  },
  {
   "cell_type": "markdown",
   "id": "736f9eb8",
   "metadata": {},
   "source": [
    "6. What happens to variables in a local scope when the function call returns?\n",
    "\n",
    "Ans: When a function returns, the local scope is destroyed and all the variables in it are forgotten.\n"
   ]
  },
  {
   "cell_type": "markdown",
   "id": "f54b186c",
   "metadata": {},
   "source": [
    "7. What is the concept of a return value? Is it possible to have a return value in an expression?\n",
    "\n",
    "Ans: A return value is the value that a function call evaluates to. Like any value, a return value can be used as part of an expression.\n"
   ]
  },
  {
   "cell_type": "markdown",
   "id": "91135b47",
   "metadata": {},
   "source": [
    "8. If a function does not have a return statement, what is the return value of a call to that function?\n",
    "\n",
    "Ans: If there is no return statement for a function, its return value is None.\n"
   ]
  },
  {
   "cell_type": "markdown",
   "id": "e56e9bd0",
   "metadata": {},
   "source": [
    "9. How do you make a function variable refer to the global variable?\n",
    "\n",
    "Ans: The 'global' keyword in a function will refer function variable to the global variable."
   ]
  },
  {
   "cell_type": "markdown",
   "id": "a5b4c14a",
   "metadata": {},
   "source": [
    "10. What is the data type of None?\n",
    "Ans: NoneType"
   ]
  },
  {
   "cell_type": "markdown",
   "id": "9b9ebb81",
   "metadata": {},
   "source": [
    "11. What does the sentence import areallyourpetsnamederic do?\n",
    "\n",
    "Ans: It will import a module named 'areallyourpetsnamederic'."
   ]
  },
  {
   "cell_type": "markdown",
   "id": "947049ea",
   "metadata": {},
   "source": [
    "12. If you had a bacon() feature in a spam module, what would you call it after importing spam?\n",
    "\n",
    "Ans: spam.bacon()"
   ]
  },
  {
   "cell_type": "markdown",
   "id": "e06bdca3",
   "metadata": {},
   "source": [
    "13. What can you do to save a programme from crashing if it encounters an error?\n",
    "\n",
    "Ans: We can use try except clause to save a program from crashing."
   ]
  },
  {
   "cell_type": "markdown",
   "id": "ebda1fce",
   "metadata": {},
   "source": [
    "14. What is the purpose of the try clause? What is the purpose of the except clause?\n",
    "\n",
    "Ans: The try block is used to check some code for errors i.e the code inside the try block will execute when there is no error in the program. Whereas the code inside the except block will execute whenever the program encounters some error in the preceding try block."
   ]
  }
 ],
 "metadata": {
  "kernelspec": {
   "display_name": "Python 3 (ipykernel)",
   "language": "python",
   "name": "python3"
  },
  "language_info": {
   "codemirror_mode": {
    "name": "ipython",
    "version": 3
   },
   "file_extension": ".py",
   "mimetype": "text/x-python",
   "name": "python",
   "nbconvert_exporter": "python",
   "pygments_lexer": "ipython3",
   "version": "3.10.9"
  }
 },
 "nbformat": 4,
 "nbformat_minor": 5
}
