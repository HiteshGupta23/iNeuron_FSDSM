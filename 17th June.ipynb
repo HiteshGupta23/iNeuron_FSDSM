{
 "cells": [
  {
   "cell_type": "markdown",
   "id": "e8e1f231",
   "metadata": {},
   "source": [
    "# 17th June Assignment"
   ]
  },
  {
   "cell_type": "markdown",
   "id": "5225213a",
   "metadata": {},
   "source": [
    "### Q1. What is the role of try and exception block?"
   ]
  },
  {
   "cell_type": "markdown",
   "id": "492198bb",
   "metadata": {},
   "source": [
    "Ans: Try block: The code within the try block contains the statements that may potentially raise an exception. It allows you to specify the section of code that you want to monitor for exceptions.\n",
    "\n",
    "Exception block: If an exception occurs within the try block, the corresponding except block(s) are executed. The except block allows you to define the actions or code that should be executed when a specific exception is raised. You can have multiple except blocks to handle different types of exceptions."
   ]
  },
  {
   "cell_type": "code",
   "execution_count": 1,
   "id": "24740eb6",
   "metadata": {
    "scrolled": true
   },
   "outputs": [
    {
     "ename": "NameError",
     "evalue": "name 'x' is not defined",
     "output_type": "error",
     "traceback": [
      "\u001b[1;31m---------------------------------------------------------------------------\u001b[0m",
      "\u001b[1;31mNameError\u001b[0m                                 Traceback (most recent call last)",
      "Cell \u001b[1;32mIn[1], line 3\u001b[0m\n\u001b[0;32m      1\u001b[0m \u001b[38;5;66;03m#e.g: normal function error\u001b[39;00m\n\u001b[1;32m----> 3\u001b[0m \u001b[38;5;28mprint\u001b[39m(x)\n",
      "\u001b[1;31mNameError\u001b[0m: name 'x' is not defined"
     ]
    }
   ],
   "source": [
    "#e.g: normal function error\n",
    "\n",
    "print(x)"
   ]
  },
  {
   "cell_type": "code",
   "execution_count": 2,
   "id": "9a23cbe4",
   "metadata": {},
   "outputs": [
    {
     "name": "stdout",
     "output_type": "stream",
     "text": [
      "There is no x\n"
     ]
    }
   ],
   "source": [
    "#try and exception handling\n",
    "\n",
    "try:\n",
    "  print(x)\n",
    "except:\n",
    "  print(\"There is no x\")"
   ]
  },
  {
   "cell_type": "markdown",
   "id": "783ae5b4",
   "metadata": {},
   "source": [
    "### Q2. What is the syntax for a basic try-except block?"
   ]
  },
  {
   "cell_type": "code",
   "execution_count": 3,
   "id": "17c37f10",
   "metadata": {},
   "outputs": [
    {
     "name": "stdout",
     "output_type": "stream",
     "text": [
      "Some issue with x\n"
     ]
    }
   ],
   "source": [
    "try:  #finds error\n",
    "  print(x)\n",
    "except:  #handles error\n",
    "  print(\"Some issue with x\")"
   ]
  },
  {
   "cell_type": "markdown",
   "id": "de09e59d",
   "metadata": {},
   "source": [
    "### Q3. What happens if an exception occurs inside a try block and there is no matching except block?"
   ]
  },
  {
   "cell_type": "markdown",
   "id": "9e2a66e3",
   "metadata": {},
   "source": [
    "Ans: In Python, if an exception occurs inside a try block and there is no matching except block, the exception will propagate up to the next higher level that can handle it. If no handler is found, it becomes an unhandled exception and execution stops with a traceback message."
   ]
  },
  {
   "cell_type": "code",
   "execution_count": 4,
   "id": "79597ef4",
   "metadata": {},
   "outputs": [
    {
     "ename": "ZeroDivisionError",
     "evalue": "division by zero",
     "output_type": "error",
     "traceback": [
      "\u001b[1;31m---------------------------------------------------------------------------\u001b[0m",
      "\u001b[1;31mZeroDivisionError\u001b[0m                         Traceback (most recent call last)",
      "Cell \u001b[1;32mIn[4], line 4\u001b[0m\n\u001b[0;32m      1\u001b[0m \u001b[38;5;66;03m#Example\u001b[39;00m\n\u001b[0;32m      3\u001b[0m \u001b[38;5;28;01mtry\u001b[39;00m:\n\u001b[1;32m----> 4\u001b[0m     x \u001b[38;5;241m=\u001b[39m \u001b[38;5;241m5\u001b[39m \u001b[38;5;241m/\u001b[39m \u001b[38;5;241m0\u001b[39m  \u001b[38;5;66;03m# This will raise a ZeroDivisionError\u001b[39;00m\n\u001b[0;32m      5\u001b[0m \u001b[38;5;28;01mexcept\u001b[39;00m \u001b[38;5;167;01mValueError\u001b[39;00m:\n\u001b[0;32m      6\u001b[0m     \u001b[38;5;28mprint\u001b[39m(\u001b[38;5;124m\"\u001b[39m\u001b[38;5;124mThis is a ValueError handler.\u001b[39m\u001b[38;5;124m\"\u001b[39m)\n",
      "\u001b[1;31mZeroDivisionError\u001b[0m: division by zero"
     ]
    }
   ],
   "source": [
    "#Example\n",
    "\n",
    "try:\n",
    "    x = 5 / 0  # This will raise a ZeroDivisionError\n",
    "except ValueError:\n",
    "    print(\"This is a ValueError handler.\")"
   ]
  },
  {
   "cell_type": "markdown",
   "id": "aa875a0a",
   "metadata": {},
   "source": [
    "### Q4. What is the difference between using a bare except block and specifying a specific exception type?"
   ]
  },
  {
   "cell_type": "markdown",
   "id": "24d49ccf",
   "metadata": {},
   "source": [
    "Ans:Bare Except Block: This catches all exceptions, including system exceptions such as SystemExit, KeyboardInterrupt, and even exceptions that are typically used for non-error messaging like StopIteration. It’s generally not recommended to use a bare except block because it can catch unexpected exceptions and hide programming errors."
   ]
  },
  {
   "cell_type": "code",
   "execution_count": 5,
   "id": "82961ee4",
   "metadata": {},
   "outputs": [
    {
     "name": "stdout",
     "output_type": "stream",
     "text": [
      "An error occurred.\n"
     ]
    }
   ],
   "source": [
    "#Example\n",
    "\n",
    "try:\n",
    "    x = 3 / 0  # This will raise a ZeroDivisionError\n",
    "except:\n",
    "    print(\"An error occurred.\")"
   ]
  },
  {
   "cell_type": "markdown",
   "id": "c558184d",
   "metadata": {},
   "source": [
    "Specifying a specific exception type: This only catches exceptions of the specified type or its subclasses. It allows you to have different handlers for different types of exceptions, which can make your error handling code more precise and easier to understand."
   ]
  },
  {
   "cell_type": "code",
   "execution_count": 6,
   "id": "cd27f7f8",
   "metadata": {},
   "outputs": [
    {
     "name": "stdout",
     "output_type": "stream",
     "text": [
      "You can't divide by zero!\n"
     ]
    }
   ],
   "source": [
    "#Example\n",
    "\n",
    "try:\n",
    "    x = 1 / 0  # This will raise a ZeroDivisionError\n",
    "except ZeroDivisionError:\n",
    "    print(\"You can't divide by zero!\")"
   ]
  },
  {
   "cell_type": "markdown",
   "id": "02569dc4",
   "metadata": {},
   "source": [
    "### Q5. Can you have nested try-except blocks in Python? If yes, then give an example."
   ]
  },
  {
   "cell_type": "markdown",
   "id": "05c6e39d",
   "metadata": {},
   "source": [
    "Ans: Yes, you can have nested try-except blocks in Python. This means you can place one try-except block inside another. Nested try-except blocks allow you to handle exceptions at different levels of your code, providing more fine-grained control over error handling."
   ]
  },
  {
   "cell_type": "code",
   "execution_count": 7,
   "id": "06d01a88",
   "metadata": {},
   "outputs": [
    {
     "name": "stdout",
     "output_type": "stream",
     "text": [
      "Outer try block.\n",
      "Nested try block.\n",
      "Outer except block.\n"
     ]
    }
   ],
   "source": [
    "#Example\n",
    "\n",
    "x = 10\n",
    "y = 0\n",
    "try:\n",
    "    print(\"Outer try block.\")\n",
    "    try:\n",
    "        print(\"Nested try block.\")\n",
    "        print(x / y)\n",
    "    except TypeError:\n",
    "        print(\"Nested except block.\")\n",
    "except ZeroDivisionError:\n",
    "    print(\"Outer except block.\")"
   ]
  },
  {
   "cell_type": "markdown",
   "id": "6c1c50c8",
   "metadata": {},
   "source": [
    "### Q6. Can we use multiple exception blocks, if yes then give an example."
   ]
  },
  {
   "cell_type": "markdown",
   "id": "4224bf42",
   "metadata": {},
   "source": [
    "Ans: Yes, you can use multiple except blocks in Python to handle different types of exceptions. Each except block will catch exceptions of the specified type and its subclasses."
   ]
  },
  {
   "cell_type": "code",
   "execution_count": 9,
   "id": "a04bbd46",
   "metadata": {},
   "outputs": [
    {
     "name": "stdout",
     "output_type": "stream",
     "text": [
      "Enter a number: 3.3\n",
      "Invalid input: Please enter a valid integer.\n"
     ]
    }
   ],
   "source": [
    "#Example\n",
    "\n",
    "try:\n",
    "    num = int(input(\"Enter a number: \"))\n",
    "    result = 10 / num\n",
    "except ValueError:\n",
    "    print(\"Invalid input: Please enter a valid integer.\")\n",
    "except ZeroDivisionError:\n",
    "    print(\"Cannot divide by zero.\")\n",
    "except Exception as e:\n",
    "    print(f\"An error occurred: {e}\")"
   ]
  },
  {
   "cell_type": "markdown",
   "id": "33177906",
   "metadata": {},
   "source": [
    "### Q7. Write the reason due to which following errors are raised:\n",
    "\n",
    "a. EOFError\n",
    "\n",
    "b. FloatingPointError\n",
    "\n",
    "c. IndexError\n",
    "\n",
    "d. MemoryError\n",
    "\n",
    "e. OverflowError\n",
    "\n",
    "f. TabError\n",
    "\n",
    "g. ValueError"
   ]
  },
  {
   "cell_type": "markdown",
   "id": "b9664ae9",
   "metadata": {},
   "source": [
    "Ans: a. EOFError: Raised when the input() function hits an end-of-file condition (EOF).\n",
    "\n",
    "b. FloatingPointError: Raised when a floating point operation fails.\n",
    "\n",
    "c. IndexError: Raised when a sequence subscript is out of range.\n",
    "\n",
    "d. MemoryError: Raised when an operation runs out of memory.\n",
    "\n",
    "e. OverflowError: Raised when the result of an arithmetic operation is too large to be expressed by the normal number format.\n",
    "\n",
    "f. TabError: Raised when indentation contains mixed tabs and spaces.\n",
    "\n",
    "g. ValueError: Raised when a built-in operation or function receives an argument that has the right type but an inappropriate value."
   ]
  },
  {
   "cell_type": "markdown",
   "id": "84e5745b",
   "metadata": {},
   "source": [
    "### Q8. Write code for the following given scenario and add try-exception block to it.\n",
    "\n",
    "a. Program to divide two numbers\n",
    "\n",
    "b. Program to convert a string to an integer\n",
    "\n",
    "c. Program to access an element in a list\n",
    "\n",
    "d. Program to handle a specific exception\n",
    "\n",
    "e. Program to handle any exception"
   ]
  },
  {
   "cell_type": "code",
   "execution_count": 10,
   "id": "4033e9e3",
   "metadata": {},
   "outputs": [
    {
     "name": "stdout",
     "output_type": "stream",
     "text": [
      "Enter Dividend: 8\n",
      "Enter Divisor: 2\n",
      "Result:  4.0\n"
     ]
    }
   ],
   "source": [
    "#a. Program to divide two numbers\n",
    "\n",
    "try: \n",
    "    num= float(input(\"Enter Dividend: \"))\n",
    "    den= float(input(\"Enter Divisor: \"))\n",
    "    result= num/den\n",
    "    print(\"Result: \", result)\n",
    "    \n",
    "except ZeroDivisionError:\n",
    "    print(\"Division by zero is not allowed\")"
   ]
  },
  {
   "cell_type": "code",
   "execution_count": 11,
   "id": "27ecbba6",
   "metadata": {},
   "outputs": [
    {
     "name": "stdout",
     "output_type": "stream",
     "text": [
      "Enter integer: 23\n",
      "Converted value to integer is: 23\n"
     ]
    }
   ],
   "source": [
    "#b. Program to convert a string to an integer\n",
    "\n",
    "try:\n",
    "    value= input(\"Enter integer: \")\n",
    "    result= int(value)\n",
    "    print(\"Converted value to integer is:\", result)\n",
    "    \n",
    "except ValueError:\n",
    "    print(\"Error: Entered Value is incorrect.\")"
   ]
  },
  {
   "cell_type": "code",
   "execution_count": 12,
   "id": "bad48f19",
   "metadata": {},
   "outputs": [
    {
     "name": "stdout",
     "output_type": "stream",
     "text": [
      "Enter index: 6\n",
      "Element at index  6 is  7\n"
     ]
    }
   ],
   "source": [
    "#c. Program to access an element in a list\n",
    "\n",
    "try: \n",
    "    lst= [1,2,3,4,5,6,7,8]\n",
    "    idx= int(input(\"Enter index: \"))\n",
    "    res= lst[idx]\n",
    "    print(\"Element at index \", idx, \"is \", res)\n",
    "    \n",
    "except IndexError:\n",
    "    print(\"Index out of range, please enter valid index.\")"
   ]
  },
  {
   "cell_type": "code",
   "execution_count": 13,
   "id": "310d439b",
   "metadata": {},
   "outputs": [
    {
     "name": "stdout",
     "output_type": "stream",
     "text": [
      "Enter age: 23\n",
      "Age is  23\n"
     ]
    }
   ],
   "source": [
    "#d. Program to handle a specific exception\n",
    "\n",
    "try:\n",
    "    age = int(input(\"Enter age: \"))\n",
    "    if age < 0:\n",
    "        raise ValueError(\"Invalid age: Age cannot be negative.\")\n",
    "    print(\"Age is \", age)\n",
    "    \n",
    "except ValueError as e:\n",
    "    print(\"Error: \", str(e))"
   ]
  },
  {
   "cell_type": "code",
   "execution_count": 14,
   "id": "baeaee0f",
   "metadata": {},
   "outputs": [
    {
     "name": "stdout",
     "output_type": "stream",
     "text": [
      "Enter first number: 9\n",
      "Enter second number: 3\n",
      "Result: 3.0\n"
     ]
    }
   ],
   "source": [
    "#e. Program to handle any exception\n",
    "\n",
    "try:\n",
    "    # Code that may raise exceptions\n",
    "    num1 = int(input(\"Enter first number: \"))\n",
    "    num2 = int(input(\"Enter second number: \"))\n",
    "    result = num1/num2\n",
    "    print(\"Result:\", result)\n",
    "    \n",
    "except Exception as e:\n",
    "    print(\"An error occurred: \", str(e))"
   ]
  }
 ],
 "metadata": {
  "kernelspec": {
   "display_name": "Python 3 (ipykernel)",
   "language": "python",
   "name": "python3"
  },
  "language_info": {
   "codemirror_mode": {
    "name": "ipython",
    "version": 3
   },
   "file_extension": ".py",
   "mimetype": "text/x-python",
   "name": "python",
   "nbconvert_exporter": "python",
   "pygments_lexer": "ipython3",
   "version": "3.11.3"
  }
 },
 "nbformat": 4,
 "nbformat_minor": 5
}
