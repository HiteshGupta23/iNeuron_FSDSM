{
 "cells": [
  {
   "cell_type": "markdown",
   "id": "d1b45bc5",
   "metadata": {},
   "source": [
    "# Assignment 6"
   ]
  },
  {
   "cell_type": "markdown",
   "id": "e0f628b9",
   "metadata": {},
   "source": [
    "### Q.1. What are keywords in python? Using the keyword library, print all the python keywords."
   ]
  },
  {
   "cell_type": "markdown",
   "id": "b837243e",
   "metadata": {},
   "source": [
    "Ans: Keywords in Python are reserved words that have specific meanings and purposes and can’t be used for anything else. They are used to define the syntax and structure of the Python language."
   ]
  },
  {
   "cell_type": "code",
   "execution_count": 1,
   "id": "84a8c5a2",
   "metadata": {},
   "outputs": [
    {
     "data": {
      "text/plain": [
       "['False',\n",
       " 'None',\n",
       " 'True',\n",
       " 'and',\n",
       " 'as',\n",
       " 'assert',\n",
       " 'async',\n",
       " 'await',\n",
       " 'break',\n",
       " 'class',\n",
       " 'continue',\n",
       " 'def',\n",
       " 'del',\n",
       " 'elif',\n",
       " 'else',\n",
       " 'except',\n",
       " 'finally',\n",
       " 'for',\n",
       " 'from',\n",
       " 'global',\n",
       " 'if',\n",
       " 'import',\n",
       " 'in',\n",
       " 'is',\n",
       " 'lambda',\n",
       " 'nonlocal',\n",
       " 'not',\n",
       " 'or',\n",
       " 'pass',\n",
       " 'raise',\n",
       " 'return',\n",
       " 'try',\n",
       " 'while',\n",
       " 'with',\n",
       " 'yield']"
      ]
     },
     "execution_count": 1,
     "metadata": {},
     "output_type": "execute_result"
    }
   ],
   "source": [
    "import keyword\n",
    "keyword.kwlist"
   ]
  },
  {
   "cell_type": "markdown",
   "id": "98a1394b",
   "metadata": {},
   "source": [
    "### Q.2. What are the rules to create variables in python?"
   ]
  },
  {
   "cell_type": "markdown",
   "id": "b1b12c30",
   "metadata": {},
   "source": [
    "Ans: There are some rules to create variables in Python123:\n",
    "\n",
    "1. A variable name must start with a letter or the underscore character.\n",
    "2. A variable name cannot start with a number.\n",
    "3. A variable name can only contain alpha-numeric characters and underscores (A-z, 0-9, and _ ).\n",
    "4. Variable names are case-sensitive (name, Name, and NAME are three different variables).\n",
    "5. The reserved words (keywords) in Python cannot be used as variable names. For example, you cannot use if, def, class, etc. as variable names."
   ]
  },
  {
   "cell_type": "markdown",
   "id": "8aff235f",
   "metadata": {},
   "source": [
    "### Q.3. What are the standards and conventions followed for the nomenclature of variables in python to improve code readability and maintainability?"
   ]
  },
  {
   "cell_type": "markdown",
   "id": "e5aec0d6",
   "metadata": {},
   "source": [
    "Ans: The standards and conventions followed for the nomenclature of variables in Python are based on the PEP8 style guide, which is the official style guide for Python. These conventions help to make the code more readable, consistent, and maintainable. Some of the main conventions are:\n",
    "\n",
    "Use descriptive and meaningful names that convey the purpose or content of the variable. For example, use 'age' instead of 'a', or 'name' instead of 'n'.\n",
    "\n",
    "Avoid using single character names like l, O, or I, as they can be confused with numbers or other symbols.\n",
    "\n",
    "Use snake_case for variable names, which means all words are in lowercase and separated by underscores. For example: user_name, my_function, total_count.\n",
    "\n",
    "Use PascalCase for class names, which means each word starts with a capital letter. For example: ClassName, MyClass, AnotherClass.\n",
    "\n",
    "Use UPPER_CASE for constants, which are variables that do not change their value. For example: PI, MAX_VALUE, MIN_VALUE.\n",
    "\n",
    "Avoid using reserved words or keywords as variable names, as they have special meanings in Python. For example, you cannot use if, def, class, etc. as variable names. You can use the keyword module to check if a word is a keyword or not."
   ]
  },
  {
   "cell_type": "markdown",
   "id": "6fc61493",
   "metadata": {},
   "source": [
    "### Q.4. What will happen if a keyword is used as a variable name?"
   ]
  },
  {
   "cell_type": "markdown",
   "id": "0c199a6a",
   "metadata": {},
   "source": [
    "Ans: If a keyword is used as a variable name then python interpreter will throw an error."
   ]
  },
  {
   "cell_type": "markdown",
   "id": "05d662a8",
   "metadata": {},
   "source": [
    "### SyntaxError: invalid syntax"
   ]
  },
  {
   "cell_type": "code",
   "execution_count": 2,
   "id": "9e9b2db9",
   "metadata": {},
   "outputs": [
    {
     "ename": "SyntaxError",
     "evalue": "invalid syntax (1093108196.py, line 1)",
     "output_type": "error",
     "traceback": [
      "\u001b[1;36m  Cell \u001b[1;32mIn[2], line 1\u001b[1;36m\u001b[0m\n\u001b[1;33m    class = 3\u001b[0m\n\u001b[1;37m          ^\u001b[0m\n\u001b[1;31mSyntaxError\u001b[0m\u001b[1;31m:\u001b[0m invalid syntax\n"
     ]
    }
   ],
   "source": [
    "class = 3\n",
    "print(class)"
   ]
  },
  {
   "cell_type": "markdown",
   "id": "10fa5ecb",
   "metadata": {},
   "source": [
    "### Q.5. For what purpose def keyword is used?"
   ]
  },
  {
   "cell_type": "markdown",
   "id": "60b19f82",
   "metadata": {},
   "source": [
    "Ans: The def keyword in Python is used to define a function. It is followed by the function name, a set of parentheses that may contain optional parameters and colon ' : '."
   ]
  },
  {
   "cell_type": "markdown",
   "id": "6a19d62d",
   "metadata": {},
   "source": [
    "### Q.6. What is the operation of this special character ‘\\’?"
   ]
  },
  {
   "cell_type": "markdown",
   "id": "6bfb0c76",
   "metadata": {},
   "source": [
    "Ans: Operation of special character '\\' is to extend a statement over multiple lines."
   ]
  },
  {
   "cell_type": "code",
   "execution_count": 3,
   "id": "0925f640",
   "metadata": {},
   "outputs": [
    {
     "name": "stdout",
     "output_type": "stream",
     "text": [
      "spin 2 win\n"
     ]
    }
   ],
   "source": [
    "#Example\n",
    "\n",
    "x = 'spin' + ' 2' + \\\n",
    "    ' win'\n",
    "print(x)"
   ]
  },
  {
   "cell_type": "markdown",
   "id": "c0532400",
   "metadata": {},
   "source": [
    "### Q.7. Give an example of the following conditions:\n",
    "(i) Homogeneous list  \n",
    "(ii) Heterogeneous set  \n",
    "(iii) Homogeneous tuple"
   ]
  },
  {
   "cell_type": "code",
   "execution_count": 4,
   "id": "a70c7993",
   "metadata": {
    "scrolled": true
   },
   "outputs": [
    {
     "name": "stdout",
     "output_type": "stream",
     "text": [
      "['Dog', 'Cat', 'Horse', 'Lion', 'Tiger']\n"
     ]
    }
   ],
   "source": [
    "# Homogenous List\n",
    "\n",
    "animals = [\"Dog\", \"Cat\", \"Horse\", \"Lion\", \"Tiger\"]\n",
    "print(animals)"
   ]
  },
  {
   "cell_type": "code",
   "execution_count": 5,
   "id": "9dc1c15b",
   "metadata": {},
   "outputs": [
    {
     "name": "stdout",
     "output_type": "stream",
     "text": [
      "[2, 'Apple', 1.414, 365]\n"
     ]
    }
   ],
   "source": [
    "# Heterogenous Set\n",
    "\n",
    "hetero_set= [2, \"Apple\", 1.414, 365]\n",
    "print(hetero_set)"
   ]
  },
  {
   "cell_type": "code",
   "execution_count": 6,
   "id": "790efacd",
   "metadata": {},
   "outputs": [
    {
     "name": "stdout",
     "output_type": "stream",
     "text": [
      "(2, 4, 6, 8, 10)\n"
     ]
    }
   ],
   "source": [
    "# Homogeneous tuple\n",
    "\n",
    "tup1 = (2, 4, 6, 8, 10)\n",
    "print(tup1)"
   ]
  },
  {
   "cell_type": "markdown",
   "id": "edee0ca1",
   "metadata": {},
   "source": [
    "### Q.8. Explain the mutable and immutable data types with proper explanation & examples."
   ]
  },
  {
   "cell_type": "markdown",
   "id": "2967caed",
   "metadata": {},
   "source": [
    "Ans: Immutable Data Types: Immutable data types are those whose values cannot be changed once they are created. If you want to modify an immutable object, you need to create a new object with the modified value. Examples of immutable data types are numbers (integers, float, complex), strings, tuples.\n",
    "\n",
    "Mutable Data Types: Mutable data types are those whose values can be changed once they are created. You can modify the contents of a mutable object without creating a new object. Examples of mutable data types are sets, lists, dictionaries."
   ]
  },
  {
   "cell_type": "markdown",
   "id": "5dd783d6",
   "metadata": {},
   "source": [
    "### Q.9. Write a code to create the given structure using only for loop."
   ]
  },
  {
   "cell_type": "code",
   "execution_count": 7,
   "id": "30a96df2",
   "metadata": {},
   "outputs": [
    {
     "name": "stdout",
     "output_type": "stream",
     "text": [
      "    *\n",
      "   ***\n",
      "  *****\n",
      " *******\n",
      "*********\n"
     ]
    }
   ],
   "source": [
    "rows = 5\n",
    "\n",
    "for i in range(rows):\n",
    "    for j in range(rows - i - 1):\n",
    "        print(\" \", end=\"\")\n",
    "    for k in range(2 * i + 1):\n",
    "        print(\"*\", end=\"\")\n",
    "    print()"
   ]
  },
  {
   "cell_type": "markdown",
   "id": "c54e882d",
   "metadata": {},
   "source": [
    "### Q.10. Write a code to create the given structure using while loop."
   ]
  },
  {
   "cell_type": "code",
   "execution_count": 8,
   "id": "904f7b0c",
   "metadata": {},
   "outputs": [
    {
     "name": "stdout",
     "output_type": "stream",
     "text": [
      "|||||||||\n",
      " |||||||\n",
      "  |||||\n",
      "   |||\n",
      "    |\n"
     ]
    }
   ],
   "source": [
    "rows = 5\n",
    "count = rows\n",
    "\n",
    "while count >= 1:\n",
    "    print(\" \" * (rows - count) + \"|\" * (2 * count - 1))\n",
    "    count -= 1"
   ]
  }
 ],
 "metadata": {
  "kernelspec": {
   "display_name": "Python 3 (ipykernel)",
   "language": "python",
   "name": "python3"
  },
  "language_info": {
   "codemirror_mode": {
    "name": "ipython",
    "version": 3
   },
   "file_extension": ".py",
   "mimetype": "text/x-python",
   "name": "python",
   "nbconvert_exporter": "python",
   "pygments_lexer": "ipython3",
   "version": "3.10.9"
  }
 },
 "nbformat": 4,
 "nbformat_minor": 5
}
