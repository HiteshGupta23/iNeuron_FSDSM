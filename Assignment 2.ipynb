{
 "cells": [
  {
   "cell_type": "markdown",
   "id": "c297fc34",
   "metadata": {},
   "source": [
    "1. What are the two values of the Boolean data type? How do you write them?\n",
    "\n",
    "Ans: True and False are the two types of Boolean data types."
   ]
  },
  {
   "cell_type": "markdown",
   "id": "6a3cb01f",
   "metadata": {},
   "source": [
    "2. What are the three different types of Boolean operators?\n",
    "\n",
    "Ans: AND, OR and NOT"
   ]
  },
  {
   "cell_type": "markdown",
   "id": "3e9dc6a3",
   "metadata": {},
   "source": [
    "3. Make a list of each Boolean operator's truth tables (i.e. every possible combination of Boolean values for the operator and what it evaluate ).\n",
    "\n",
    "Ans: A & B are Inputs and X is the Output:\n",
    "\n",
    "     AND Table\n",
    "\n",
    "     A    B    X\n",
    "     0    0    0\n",
    "     1    0    0\n",
    "     0    1    0\n",
    "     1    1    1\n",
    "\n",
    "\n",
    "     OR Table\n",
    "\n",
    "     A    B    X\n",
    "     0    0    0\n",
    "     0    1    1\n",
    "     1    0    1\n",
    "     1    1    1\n",
    "\n",
    "\n",
    "     NOT Table\n",
    "\n",
    "     A    X\n",
    "     0    1\n",
    "     1    0"
   ]
  },
  {
   "cell_type": "markdown",
   "id": "249d189f",
   "metadata": {},
   "source": [
    "4. What are the values of the following expressions?\n",
    "  (5 > 4) and (3 == 5)\n",
    "  not (5 > 4)\n",
    "  (5 > 4) or (3 == 5)\n",
    "  not ((5 > 4) or (3 == 5))\n",
    "  (True and True) and (True == False)\n",
    "  (not False) or (not True)\n",
    "\n",
    "Ans: (5 > 4) and (3 == 5)     >> False\n",
    "\n",
    "     not (5 > 4)      >> False\n",
    "     \n",
    "     (5 > 4) or (3 == 5)      >> True\n",
    "     \n",
    "     not ((5 > 4) or (3 == 5))     >> False\n",
    "     \n",
    "     (True and True) and (True == False)    >> False\n",
    "     \n",
    "     (not False) or (not True)   >> True"
   ]
  },
  {
   "cell_type": "code",
   "execution_count": 1,
   "id": "ce87c9bd",
   "metadata": {},
   "outputs": [
    {
     "name": "stdout",
     "output_type": "stream",
     "text": [
      "False\n",
      "False\n",
      "True\n",
      "False\n",
      "False\n",
      "True\n"
     ]
    }
   ],
   "source": [
    "print((5 > 4) and (3 == 5))\n",
    "print(not (5 > 4))\n",
    "print((5 > 4) or (3 == 5))\n",
    "print(not ((5 > 4) or (3 == 5)))\n",
    "print((True and True) and (True == False))\n",
    "print((not False) or (not True))"
   ]
  },
  {
   "cell_type": "markdown",
   "id": "70ec82ed",
   "metadata": {},
   "source": [
    "5. What are the six comparison operators?\n",
    "\n",
    "Ans: Six comparison operators are:\n",
    "\n",
    "Equal to ( == ) ; \n",
    "Not equal to ( != ) ; \n",
    "Less than ( < ) ; \n",
    "Greater than ( > ) ; \n",
    "Less than or equal to ( <= ) ; \n",
    "Greater than or equal to ( >= )"
   ]
  },
  {
   "cell_type": "markdown",
   "id": "a0aac8ac",
   "metadata": {},
   "source": [
    "6. How do you tell the difference between the equal to and assignment operators? Describe a condition and when you would use one.\n",
    "\n",
    "Ans: 'Equal to' operator is denoted by double equal sign '==' whereas assignment operator is denoted by single equal sign with some other sign (e.g.: +=, *=, etc ). Equal to operator is used in comparing two variables whereas assignment operator is used to store right side value into right side variable."
   ]
  },
  {
   "cell_type": "markdown",
   "id": "54fa1339",
   "metadata": {},
   "source": [
    "7. Identify the three blocks in this code:\n",
    "spam = 0\n",
    "if spam == 10:\n",
    "print('eggs')\n",
    "if spam > 5:\n",
    "print('bacon')\n",
    "else:\n",
    "print('ham')\n",
    "print('spam')\n",
    "print('spam')\n",
    "\n",
    "Ans: The three blocks are:\n",
    "\n",
    "spam = 0\n",
    "\n",
    "**FIRST BLOCK :**\n",
    "if spam == 10:\n",
    "print('eggs')\n",
    "\n",
    "=====================================================\n",
    "\n",
    "SECOND BLOCK :\n",
    "if spam > 5:\n",
    "print('bacon')\n",
    "\n",
    "=====================================================\n",
    "\n",
    "THIRD BLOCK :\n",
    "else:\n",
    "print('ham')\n",
    "print('spam')\n",
    "print('spam')"
   ]
  },
  {
   "cell_type": "markdown",
   "id": "96a41388",
   "metadata": {},
   "source": [
    "8. Write code that prints Hello if 1 is stored in spam, prints Howdy if 2 is stored in spam, and prints Greetings! if anything else is stored in spam."
   ]
  },
  {
   "cell_type": "code",
   "execution_count": 3,
   "id": "302e1347",
   "metadata": {},
   "outputs": [
    {
     "name": "stdout",
     "output_type": "stream",
     "text": [
      "Enter number: 2\n",
      "Howdy\n"
     ]
    }
   ],
   "source": [
    "spam = int(input(\"Enter number: \"))\n",
    "if spam == 1:\n",
    "    print(\"Hello\")\n",
    "elif spam == 2:\n",
    "    print(\"Howdy\")\n",
    "else:\n",
    "    print(\"Greetings!\")"
   ]
  },
  {
   "cell_type": "markdown",
   "id": "298e0773",
   "metadata": {},
   "source": [
    "9. If your programme is stuck in an endless loop, what keys you’ll press?\n",
    "\n",
    "Ans: ctrl+c\n",
    "\n",
    "e.g.:"
   ]
  },
  {
   "cell_type": "code",
   "execution_count": null,
   "id": "28db38d4",
   "metadata": {},
   "outputs": [],
   "source": [
    "x = 12\n",
    "y = 21\n",
    "while x<y:\n",
    "    print(\"Endless Loop\")"
   ]
  },
  {
   "cell_type": "markdown",
   "id": "23ed9e22",
   "metadata": {},
   "source": [
    "10. How can you tell the difference between break and continue?\n",
    "\n",
    "Ans: With the break statement we can stop the loop even if the while condition is true whereas with the continue statement we can stop the current iteration, and continue with the next."
   ]
  },
  {
   "cell_type": "markdown",
   "id": "fd506a1c",
   "metadata": {},
   "source": [
    "11. In a for loop, what is the difference between range(10), range(0, 10), and range(0, 10, 1)?\n",
    "\n",
    "Ans: There is no difference between range(10), range(0, 10) and range(0, 10, 1). All three will give same output i.e. 0,1,2,3,4,5,6,7,8,9.\n",
    "\n",
    "range(10): It has only one parameter which is represents the ending of range. Here, the value of starting of range is '0' (default) and step parameter is '1' (default).\n",
    "\n",
    "range(0, 10): Here, the first parameter indicates the starting of range and second indicates ending of range. But here third parameter (step parameter) in not defined because of that it takes '1' by default.\n",
    "\n",
    "range(0, 10, 1): Here, the first parameter is indicates the starting of range , second indicates ending of range and third parameter is used for STEP."
   ]
  },
  {
   "cell_type": "markdown",
   "id": "0d9aafb2",
   "metadata": {},
   "source": [
    "12. Write a short program that prints the numbers 1 to 10 using a for loop. Then write an equivalent program that prints the numbers 1 to 10 using a while loop."
   ]
  },
  {
   "cell_type": "code",
   "execution_count": 7,
   "id": "91e4b406",
   "metadata": {},
   "outputs": [
    {
     "name": "stdout",
     "output_type": "stream",
     "text": [
      "1\n",
      "2\n",
      "3\n",
      "4\n",
      "5\n",
      "6\n",
      "7\n",
      "8\n",
      "9\n",
      "10\n"
     ]
    }
   ],
   "source": [
    "#program to print numbers 1 to 10 using for loop\n",
    "\n",
    "for i in range(1,11):\n",
    "    print(i)"
   ]
  },
  {
   "cell_type": "code",
   "execution_count": 8,
   "id": "983ac769",
   "metadata": {},
   "outputs": [
    {
     "name": "stdout",
     "output_type": "stream",
     "text": [
      "1\n",
      "2\n",
      "3\n",
      "4\n",
      "5\n",
      "6\n",
      "7\n",
      "8\n",
      "9\n",
      "10\n"
     ]
    }
   ],
   "source": [
    "#program to print numbers 1 to 10 using while loop\n",
    "\n",
    "x =  1\n",
    "while x<=10:\n",
    "    print(x)\n",
    "    x = x+1"
   ]
  },
  {
   "cell_type": "markdown",
   "id": "84874b1f",
   "metadata": {},
   "source": [
    "13. If you had a function named bacon() inside a module named spam, how would you call it after importing spam?\n",
    "\n",
    "Ans: spam.bacon()"
   ]
  }
 ],
 "metadata": {
  "kernelspec": {
   "display_name": "Python 3 (ipykernel)",
   "language": "python",
   "name": "python3"
  },
  "language_info": {
   "codemirror_mode": {
    "name": "ipython",
    "version": 3
   },
   "file_extension": ".py",
   "mimetype": "text/x-python",
   "name": "python",
   "nbconvert_exporter": "python",
   "pygments_lexer": "ipython3",
   "version": "3.10.9"
  }
 },
 "nbformat": 4,
 "nbformat_minor": 5
}
