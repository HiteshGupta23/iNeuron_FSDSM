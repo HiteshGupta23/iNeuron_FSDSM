{
 "cells": [
  {
   "cell_type": "markdown",
   "id": "2a466ffd-9934-4514-a638-773fa891f503",
   "metadata": {},
   "source": [
    "# Assignment 8"
   ]
  },
  {
   "cell_type": "markdown",
   "id": "5ca3edd4",
   "metadata": {},
   "source": [
    "## 10th June 2023"
   ]
  },
  {
   "cell_type": "markdown",
   "id": "26cd18a4-b14f-41e4-b15f-0baf41596ac4",
   "metadata": {},
   "source": [
    "### Q1. In Python, what is the difference between a built-in function and a user-defined function? Provide an example of each."
   ]
  },
  {
   "cell_type": "markdown",
   "id": "67f12478",
   "metadata": {},
   "source": [
    "Ans: Built-in functions are those that are already defined in Python libraries and we can call them directly. For example, print() is a built-in function that prints a message to the screen, len() is a function that gives number of items in an object(string, list, set, etc.)"
   ]
  },
  {
   "cell_type": "code",
   "execution_count": 1,
   "id": "e5619bc2",
   "metadata": {},
   "outputs": [
    {
     "name": "stdout",
     "output_type": "stream",
     "text": [
      "5\n"
     ]
    }
   ],
   "source": [
    "#Example\n",
    "\n",
    "my_list = [\"apple\", \"banana\", \"cherry\", \"mango\", \"guava\"]\n",
    "length = len(my_list)\n",
    "print(length)"
   ]
  },
  {
   "cell_type": "markdown",
   "id": "44825efe",
   "metadata": {},
   "source": [
    "User-defined functions are those that we define ourselves in our program and then call them wherever we want. It is created with 'def' keyword followed by function name of our choice."
   ]
  },
  {
   "cell_type": "code",
   "execution_count": 3,
   "id": "f16246ad",
   "metadata": {},
   "outputs": [
    {
     "name": "stdout",
     "output_type": "stream",
     "text": [
      "The sum is 5\n"
     ]
    }
   ],
   "source": [
    "#Example\n",
    "\n",
    "def add_numbers(x, y):\n",
    "  sum = x + y\n",
    "  return sum\n",
    "\n",
    "num1 = 2\n",
    "num2 = 3\n",
    "print(\"The sum is\", add_numbers(num1, num2))"
   ]
  },
  {
   "cell_type": "markdown",
   "id": "ddcd6976-a135-4701-b03c-e77da778fb81",
   "metadata": {},
   "source": [
    "### Q2. How can you pass arguments to a function in python? Explain the difference between positional arguments and keyword arguments."
   ]
  },
  {
   "cell_type": "markdown",
   "id": "06b95366",
   "metadata": {},
   "source": [
    "Ans: Arguments are specified after the function name, inside the parentheses. You can add as many arguments as you want, just separate them with a comma."
   ]
  },
  {
   "cell_type": "code",
   "execution_count": 4,
   "id": "2435a6e3",
   "metadata": {},
   "outputs": [
    {
     "name": "stdout",
     "output_type": "stream",
     "text": [
      "Spinach is green.\n",
      "Cabbage is green.\n",
      "Broccoli is green.\n"
     ]
    }
   ],
   "source": [
    "#Example\n",
    "\n",
    "def my_function(veggies):\n",
    "  print(veggies + \" is green.\")\n",
    "\n",
    "my_function(\"Spinach\")\n",
    "my_function(\"Cabbage\")\n",
    "my_function(\"Broccoli\")"
   ]
  },
  {
   "cell_type": "markdown",
   "id": "0355b823",
   "metadata": {},
   "source": [
    "A positional argument in Python is an argument whose position matters in a function call. It means that the argument must be provided in the correct position in a function call."
   ]
  },
  {
   "cell_type": "code",
   "execution_count": 5,
   "id": "d81f7299",
   "metadata": {},
   "outputs": [
    {
     "name": "stdout",
     "output_type": "stream",
     "text": [
      "Hi, my name is Tom. I am 276 months old, that is 23 years old.\n"
     ]
    }
   ],
   "source": [
    "#Example\n",
    "\n",
    "def info(name, age):\n",
    "    print(f\"Hi, my name is {name}. I am {age*12} months old, that is {age} years old.\")\n",
    "    \n",
    "info(\"Tom\", 23 )"
   ]
  },
  {
   "cell_type": "markdown",
   "id": "abf423a8",
   "metadata": {},
   "source": [
    "A keyword argument in Python is an argument that is passed to a function by specifying the name of the parameter in the function call. In this, order of the arguments does not matter."
   ]
  },
  {
   "cell_type": "code",
   "execution_count": 7,
   "id": "fc7e29b4",
   "metadata": {},
   "outputs": [
    {
     "name": "stdout",
     "output_type": "stream",
     "text": [
      "Hi, I am Prince\n",
      "My age is  20\n",
      "Hi, I am Prince\n",
      "My age is  20\n"
     ]
    }
   ],
   "source": [
    "#Example\n",
    "\n",
    "def nameAge(name, age):\n",
    "    print(\"Hi, I am\", name)\n",
    "    print(\"My age is \", age)\n",
    " \n",
    "nameAge(name=\"Prince\", age=20)\n",
    " \n",
    "\n",
    "nameAge(age=20, name=\"Prince\")"
   ]
  },
  {
   "cell_type": "markdown",
   "id": "c27cf39e",
   "metadata": {},
   "source": [
    "### Q3. What is the purpose of the return statement in a function? Can a function have multiple return statements? Explain with an example."
   ]
  },
  {
   "cell_type": "markdown",
   "id": "132a54a2",
   "metadata": {},
   "source": [
    "Ans: The return statement is used to end the execution of a function and return a value to the caller. When a return statement is used in a function body, the execution of the function is stopped. If specified, a given value is returned to the function caller."
   ]
  },
  {
   "cell_type": "code",
   "execution_count": 8,
   "id": "d127338f",
   "metadata": {},
   "outputs": [
    {
     "data": {
      "text/plain": [
       "66"
      ]
     },
     "execution_count": 8,
     "metadata": {},
     "output_type": "execute_result"
    }
   ],
   "source": [
    "#Example\n",
    "\n",
    "def product(a, b):\n",
    "    return a*b\n",
    "product(6, 11)"
   ]
  },
  {
   "cell_type": "markdown",
   "id": "fe822dbc",
   "metadata": {},
   "source": [
    "A function can have multiple return statements. When a return statement is executed, the function stops executing and returns the specified value."
   ]
  },
  {
   "cell_type": "code",
   "execution_count": 9,
   "id": "d3ce1aa7",
   "metadata": {},
   "outputs": [
    {
     "name": "stdout",
     "output_type": "stream",
     "text": [
      "Enter score= 82\n"
     ]
    },
    {
     "data": {
      "text/plain": [
       "'B'"
      ]
     },
     "execution_count": 9,
     "metadata": {},
     "output_type": "execute_result"
    }
   ],
   "source": [
    "def get_grade(score):\n",
    "    if score >= 90:\n",
    "        return 'A'\n",
    "    elif score >= 80:\n",
    "        return 'B'\n",
    "    elif score >= 70:\n",
    "        return 'C'\n",
    "    elif score >= 60:\n",
    "        return 'D'\n",
    "    else:\n",
    "        return 'F'\n",
    "    \n",
    "score= int(input(\"Enter score= \"))\n",
    "\n",
    "get_grade(score)"
   ]
  },
  {
   "cell_type": "markdown",
   "id": "4ccd90be",
   "metadata": {},
   "source": [
    "### Q4. What are lambda functions in Python? How are they different from regular functions? Provide an example where a lambda function can be useful."
   ]
  },
  {
   "cell_type": "markdown",
   "id": "3744b564",
   "metadata": {},
   "source": [
    "Ans: A lambda function in Python is a small anonymous function that can take any number of arguments but can only have one expression. The syntax for a lambda function is 'lambda arguments : expression'. The expression is executed and the result is returned.\n",
    "\n",
    "Lambda functions are defined on a single line using the 'lambda' keyword, while regular functions are defined using the 'def' keyword followed by the function name and any arguments.\n",
    "A lambda function is an expression which evaluates to a function object, while a 'def' statement has no value, and creates a function object and binds it to a name."
   ]
  },
  {
   "cell_type": "code",
   "execution_count": 10,
   "id": "5920e90b",
   "metadata": {},
   "outputs": [
    {
     "name": "stdout",
     "output_type": "stream",
     "text": [
      "[9, 25, 36, 49, 64]\n"
     ]
    }
   ],
   "source": [
    "#Example\n",
    "\n",
    "num = (3,5,6,7,8)\n",
    "squared_num = list(map(lambda x: x**2, num))\n",
    "print(squared_num)"
   ]
  },
  {
   "cell_type": "markdown",
   "id": "b9e93b89",
   "metadata": {},
   "source": [
    "### Q5. How does the concept of \"scope\" apply to functions in Python? Explain the difference between local scope and global scope."
   ]
  },
  {
   "cell_type": "markdown",
   "id": "1417d6df",
   "metadata": {},
   "source": [
    "Ans: In Python, the concept of “scope” refers to the region of the code where a variable is accessible. There are two main types of scope: local scope and global scope.\n",
    "\n",
    "\n",
    "A variable that is defined within a function has local scope. This means that the variable is only accessible within the function in which it was defined. For example, if you define a variable 'x' within a function 'my_func', you can only use 'x' within 'my_func'. If you try to use 'x' outside of 'my_func', you will get an error because 'x' is not defined in the global scope.\n",
    "\n",
    "\n",
    "\n",
    "Whereas a variable that is defined outside of any function has global scope. This means that the variable is accessible from anywhere in the code, including within functions. For example, if you define a variable 'y' outside of any function, you can use 'y' both inside and outside of functions."
   ]
  },
  {
   "cell_type": "markdown",
   "id": "9d5ef5ca",
   "metadata": {},
   "source": [
    "### Q6. How can you use the \"return\" statement in a Python function to return multiple values?"
   ]
  },
  {
   "cell_type": "markdown",
   "id": "e9e7c01f",
   "metadata": {},
   "source": [
    "Ans: We can return multiple values from a function by separating them with commas in the return statement."
   ]
  },
  {
   "cell_type": "code",
   "execution_count": 11,
   "id": "7ab94e29",
   "metadata": {},
   "outputs": [
    {
     "name": "stdout",
     "output_type": "stream",
     "text": [
      "(1, 2, 3)\n",
      "{'a': 1, 'b': 2, 'c': 3}\n"
     ]
    }
   ],
   "source": [
    "#Example\n",
    "\n",
    "def my_function():\n",
    "    return 1, 2, 3\n",
    "\n",
    "result = my_function()\n",
    "print(result)      #Output (1, 2, 3)\n",
    "\n",
    "\n",
    "\n",
    "\n",
    "#Example\n",
    "\n",
    "def my_function():\n",
    "    return {'a': 1, 'b': 2, 'c': 3}\n",
    "\n",
    "result = my_function()\n",
    "print(result)        #Output {'a': 1, 'b': 2, 'c': 3}"
   ]
  },
  {
   "cell_type": "markdown",
   "id": "48212f98",
   "metadata": {},
   "source": [
    "### Q7. What is the difference between the \"pass by value\" and \"pass by reference\" concepts when it comes to function arguments in Python?"
   ]
  },
  {
   "cell_type": "markdown",
   "id": "6c11e2f5",
   "metadata": {},
   "source": [
    "Ans: Pass by value: When you pass an immutable object (such as an integer or string) as an argument to a function, any changes made to the object within the function will not affect the original object outside of the function."
   ]
  },
  {
   "cell_type": "code",
   "execution_count": 12,
   "id": "cdec555e",
   "metadata": {},
   "outputs": [
    {
     "name": "stdout",
     "output_type": "stream",
     "text": [
      "21\n",
      "12\n"
     ]
    }
   ],
   "source": [
    "#Example\n",
    "\n",
    "def pass_val(x):\n",
    "    x = 21\n",
    "    print(x)\n",
    "    return\n",
    "x = 12\n",
    "pass_val(x)\n",
    "print(x)"
   ]
  },
  {
   "cell_type": "markdown",
   "id": "dbfd17a5",
   "metadata": {},
   "source": [
    "Pass by reference: When you pass a mutable object (such as a list or dictionary) as an argument to a function, any changes made to the object within the function will be reflected in the original object outside of the function. "
   ]
  },
  {
   "cell_type": "code",
   "execution_count": 13,
   "id": "30af73db",
   "metadata": {},
   "outputs": [
    {
     "name": "stdout",
     "output_type": "stream",
     "text": [
      "[12, 2, 3, 4]\n",
      "[12, 2, 3, 4]\n"
     ]
    }
   ],
   "source": [
    "#Example\n",
    "\n",
    "k = [1, 2, 3, 4]\n",
    "def pass_ref(x):\n",
    "    x[0] = 12\n",
    "    print(x)\n",
    "    return\n",
    "pass_ref(k)\n",
    "print(k)"
   ]
  },
  {
   "cell_type": "markdown",
   "id": "8e7f8e57",
   "metadata": {},
   "source": [
    "### Q8. Create a function that can intake integer or decimal value and do following operations:\n",
    "\n",
    "a. Logarithmic function (log x)\n",
    "\n",
    "b. Exponential function (exp(x))\n",
    "\n",
    "c. Power function with base 2(2^x)\n",
    "\n",
    "d. Square root"
   ]
  },
  {
   "cell_type": "code",
   "execution_count": 14,
   "id": "13c6e252",
   "metadata": {},
   "outputs": [
    {
     "name": "stdout",
     "output_type": "stream",
     "text": [
      "Enter Number: 2.3\n",
      "Logarithmic function (log x) value: 0.8329091229351039\n",
      "Exponential function (exp(x)) value: 9.974182454814718\n",
      "Power function with base 2(2^x) value: 4.924577653379664\n",
      "Square root value: 1.51657508881031\n"
     ]
    }
   ],
   "source": [
    "import math\n",
    "\n",
    "def func(x):\n",
    "    print(\"Logarithmic function (log x) value:\", math.log(x))\n",
    "    print(\"Exponential function (exp(x)) value:\", math.exp(x))\n",
    "    print(\"Power function with base 2(2^x) value:\", (2**x))\n",
    "    print(\"Square root value:\", math.sqrt(x))\n",
    "    \n",
    "func(float(input(\"Enter Number: \")))"
   ]
  },
  {
   "cell_type": "markdown",
   "id": "1fe95885",
   "metadata": {},
   "source": [
    "### Q9. Create a function that takes a full name as an argument and returns first name and last name."
   ]
  },
  {
   "cell_type": "code",
   "execution_count": 15,
   "id": "ec8d60c4",
   "metadata": {},
   "outputs": [
    {
     "name": "stdout",
     "output_type": "stream",
     "text": [
      "Enter Full Name: Mahendra Singh Dhoni\n",
      "First Name: Mahendra\n",
      "Last Name: Dhoni\n"
     ]
    }
   ],
   "source": [
    "def name(full_name):\n",
    "    a = full_name.split()\n",
    "    print(\"First Name:\",a[0])\n",
    "    print(\"Last Name:\",a[-1])\n",
    "    \n",
    "name(input(\"Enter Full Name: \"))"
   ]
  }
 ],
 "metadata": {
  "kernelspec": {
   "display_name": "Python 3 (ipykernel)",
   "language": "python",
   "name": "python3"
  },
  "language_info": {
   "codemirror_mode": {
    "name": "ipython",
    "version": 3
   },
   "file_extension": ".py",
   "mimetype": "text/x-python",
   "name": "python",
   "nbconvert_exporter": "python",
   "pygments_lexer": "ipython3",
   "version": "3.11.3"
  }
 },
 "nbformat": 4,
 "nbformat_minor": 5
}
