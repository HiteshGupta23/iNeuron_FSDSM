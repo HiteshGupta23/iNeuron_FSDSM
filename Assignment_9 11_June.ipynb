{
 "cells": [
  {
   "cell_type": "markdown",
   "id": "9443a4fa",
   "metadata": {},
   "source": [
    "# Assignment 9"
   ]
  },
  {
   "cell_type": "markdown",
   "id": "1c7329bd",
   "metadata": {},
   "source": [
    "## 11th June"
   ]
  },
  {
   "cell_type": "markdown",
   "id": "88915e6a",
   "metadata": {},
   "source": [
    "### Q1. What is a lambda function in Python, and how does it differ from a regular function?"
   ]
  },
  {
   "cell_type": "markdown",
   "id": "04b870e2",
   "metadata": {},
   "source": [
    "Ans: A lambda function in Python is a small anonymous function that can take any number of arguments but can only have one expression. The syntax for a lambda function is 'lambda arguments : expression'. The expression is executed and the result is returned.\n",
    "\n",
    "Lambda functions are defined on a single line using the 'lambda' keyword, while regular functions are defined using the 'def' keyword followed by the function name and any arguments. A lambda function is an expression which evaluates to a function object, while a 'def' statement has no value, and creates a function object and binds it to a name."
   ]
  },
  {
   "cell_type": "code",
   "execution_count": 1,
   "id": "b01cb5a2",
   "metadata": {},
   "outputs": [
    {
     "name": "stdout",
     "output_type": "stream",
     "text": [
      "8\n"
     ]
    }
   ],
   "source": [
    "#Example\n",
    "\n",
    "add = lambda x, y: x + y\n",
    "print(add(5, 3))  # Output: 8"
   ]
  },
  {
   "cell_type": "markdown",
   "id": "0521ab8f",
   "metadata": {},
   "source": [
    "### Q2. Can a lambda function in Python have multiple arguments? If yes, how can you define and use them?"
   ]
  },
  {
   "cell_type": "markdown",
   "id": "05937a98",
   "metadata": {},
   "source": [
    "Ans: Yes,  a lambda function in Python have multiple arguments."
   ]
  },
  {
   "cell_type": "code",
   "execution_count": 2,
   "id": "7121d54f",
   "metadata": {},
   "outputs": [
    {
     "name": "stdout",
     "output_type": "stream",
     "text": [
      "120\n"
     ]
    }
   ],
   "source": [
    "# Define a lambda function that takes three arguments and returns their product\n",
    "product_num = lambda x, y, z: x * y * z\n",
    "\n",
    "# Use the lambda function\n",
    "result = product_num(5, 3, 8)\n",
    "print(result)"
   ]
  },
  {
   "cell_type": "markdown",
   "id": "9dcc3cd7",
   "metadata": {},
   "source": [
    "### Q3. How are lambda functions typically used in Python? Provide an example use case."
   ]
  },
  {
   "cell_type": "markdown",
   "id": "7e9a3621",
   "metadata": {},
   "source": [
    "Ans: Lambda functions in Python are typically used as a convenient way to create small, anonymous functions. They are particularly useful in situations where you need a simple function for a short period of time and don't want to define a full-fledged named function."
   ]
  },
  {
   "cell_type": "code",
   "execution_count": 3,
   "id": "598bafa8",
   "metadata": {},
   "outputs": [
    {
     "name": "stdout",
     "output_type": "stream",
     "text": [
      "[9, 15, 18, 21, 24]\n"
     ]
    }
   ],
   "source": [
    "#Example\n",
    "\n",
    "#Printing thrice the of numbers provided\n",
    "num = (3,5,6,7,8)\n",
    "triple_num = list(map(lambda x: x*3, num))\n",
    "print(triple_num)"
   ]
  },
  {
   "cell_type": "markdown",
   "id": "28212aa5",
   "metadata": {},
   "source": [
    "### Q4. What are the advantages and limitations of lambda functions compared to regular functions in Python?"
   ]
  },
  {
   "cell_type": "markdown",
   "id": "48e9586d",
   "metadata": {},
   "source": [
    "Ans: The advantages lambda functions in Python include:\n",
    "\n",
    "Concise and clear code: Lambda functions allow you to write concise and clear code, as they can be defined in a single line of code.\n",
    "\n",
    "\n",
    "No additional variables: Since lambda functions do not require you to define a separate function, they do not add any additional variables to your code.\n",
    "\n",
    "\n",
    "Can be passed immediately: Lambda functions can be passed immediately as arguments to other functions, without the need for additional variables or function definitions.\n",
    "\n",
    "\n",
    "Automatic return of results: Lambda functions automatically return the result of their expression, without the need for an explicit return statement.\n",
    "\n",
    "\n",
    "Useful for functional programming: Lambda functions are very useful in the context of functional programming, as they can be used with interfaces such as filter, map, and others."
   ]
  },
  {
   "cell_type": "markdown",
   "id": "e4f9cd13",
   "metadata": {},
   "source": [
    "Limitations of lambda functions in Python:\n",
    "\n",
    "Limited to a single expression: Lambda functions can only contain one expression, meaning that they cannot contain multiple statements or complex control flow.\n",
    "\n",
    "\n",
    "Difficult to read and understand: Since lambda functions can only be defined in a single line of code, they can be difficult to read and understand (especially by beginners).\n",
    "\n",
    "\n",
    "Lack of names and documentation: Lambda functions lack names and documentation, meaning that the only way to know what they do is to read the code.\n",
    "\n",
    "\n",
    "Cannot be used with complex functions: Lambda functions cannot be used with complex functions that require multiple arguments or statements.\n",
    "\n",
    "\n",
    "Less flexible than named functions: Lambda functions cannot be referenced by name and can only be invoked when they are defined, which makes them less flexible than named functions."
   ]
  },
  {
   "cell_type": "markdown",
   "id": "43de2ab2",
   "metadata": {},
   "source": [
    "### Q5. Are lambda functions in Python able to access variables defined outside of their own scope? Explain with an example."
   ]
  },
  {
   "cell_type": "markdown",
   "id": "17ffffa7",
   "metadata": {},
   "source": [
    "Ans: Yes, lambda functions in Python are able to access variables defined outside of their own scope. This is because lambda functions, like all functions in Python, have access to the variables in the enclosing scope."
   ]
  },
  {
   "cell_type": "code",
   "execution_count": 4,
   "id": "d9900906",
   "metadata": {},
   "outputs": [
    {
     "name": "stdout",
     "output_type": "stream",
     "text": [
      "33\n"
     ]
    }
   ],
   "source": [
    "#Example\n",
    "\n",
    "x = 10\n",
    "y = 20\n",
    "\n",
    "add = lambda a, b: a + b + x + y\n",
    "\n",
    "result = add(1, 2)\n",
    "print(result) # 33"
   ]
  },
  {
   "cell_type": "markdown",
   "id": "e1935c45",
   "metadata": {},
   "source": [
    "### Q6. Write a lambda function to calculate the square of a given number."
   ]
  },
  {
   "cell_type": "code",
   "execution_count": 5,
   "id": "01a7ba76",
   "metadata": {},
   "outputs": [
    {
     "name": "stdout",
     "output_type": "stream",
     "text": [
      "Enter number: 5\n",
      "25.0\n"
     ]
    }
   ],
   "source": [
    "square = lambda x: x**2\n",
    "result = square(float(input(\"Enter number: \")))\n",
    "print(result)"
   ]
  },
  {
   "cell_type": "markdown",
   "id": "0f1bb819",
   "metadata": {},
   "source": [
    "### Q7. Create a lambda function to find the maximum value in a list of integers."
   ]
  },
  {
   "cell_type": "code",
   "execution_count": 6,
   "id": "34c03d8d",
   "metadata": {},
   "outputs": [
    {
     "name": "stdout",
     "output_type": "stream",
     "text": [
      "20\n"
     ]
    }
   ],
   "source": [
    "max_val = lambda lst: max(lst)\n",
    "nums = [12,3,8,16,5,20]\n",
    "result = max_val(nums)\n",
    "print(result)"
   ]
  },
  {
   "cell_type": "markdown",
   "id": "74da4b0f",
   "metadata": {},
   "source": [
    "### Q8. Implement a lambda function to filter out all the even numbers from a list of integers."
   ]
  },
  {
   "cell_type": "code",
   "execution_count": 7,
   "id": "c935db67",
   "metadata": {},
   "outputs": [
    {
     "name": "stdout",
     "output_type": "stream",
     "text": [
      "[12, 6, 8]\n"
     ]
    }
   ],
   "source": [
    "filter_even = lambda lst: list(filter(lambda x: x % 2 == 0, lst))\n",
    "numbers = [3,12,9,6,8,5]\n",
    "result = filter_even(numbers)\n",
    "print(result) "
   ]
  },
  {
   "cell_type": "markdown",
   "id": "ac4ae06d",
   "metadata": {},
   "source": [
    "### Q9. Write a lambda function to sort a list of strings in ascending order based on the length of each string."
   ]
  },
  {
   "cell_type": "code",
   "execution_count": 8,
   "id": "955bde41",
   "metadata": {},
   "outputs": [
    {
     "name": "stdout",
     "output_type": "stream",
     "text": [
      "['Kiwi', 'Apple', 'Banana', 'Avocado', 'Blueberry']\n"
     ]
    }
   ],
   "source": [
    "len_sort = lambda lst: sorted(lst, key=lambda s: len(s))\n",
    "strings = [\"Apple\", \"Banana\", \"Avocado\", \"Kiwi\", \"Blueberry\"]\n",
    "result = len_sort(strings)\n",
    "print(result)  "
   ]
  },
  {
   "cell_type": "markdown",
   "id": "9407f519",
   "metadata": {},
   "source": [
    "### Q10. Create a lambda function that takes two lists as input and returns a new list containing the common elements between the two lists."
   ]
  },
  {
   "cell_type": "code",
   "execution_count": 9,
   "id": "5d4ef44c",
   "metadata": {},
   "outputs": [
    {
     "name": "stdout",
     "output_type": "stream",
     "text": [
      "[4, 5, 6]\n"
     ]
    }
   ],
   "source": [
    "find_common = lambda list1, list2: list(filter(lambda x: x in list1, list2))\n",
    "list1 = [1, 2, 3, 4, 5, 6]\n",
    "list2 = [4, 5, 6, 7, 8, 9]\n",
    "result = find_common(list1, list2)\n",
    "print(result)"
   ]
  },
  {
   "cell_type": "markdown",
   "id": "c4280748",
   "metadata": {},
   "source": [
    "### Q11. Write a recursive function to calculate the factorial of a given positive integer."
   ]
  },
  {
   "cell_type": "code",
   "execution_count": 11,
   "id": "08bebad5",
   "metadata": {},
   "outputs": [
    {
     "name": "stdout",
     "output_type": "stream",
     "text": [
      "Enter num: 6\n",
      "720\n"
     ]
    }
   ],
   "source": [
    "def factorial(n):\n",
    "    # Base case\n",
    "    if n == 1:\n",
    "        return 1\n",
    "    # Recursive case\n",
    "    else:\n",
    "        return n * factorial(n-1)\n",
    "    \n",
    "result = factorial(int(input(\"Enter num: \")))\n",
    "print(result)"
   ]
  },
  {
   "cell_type": "markdown",
   "id": "4636c30a",
   "metadata": {},
   "source": [
    "### Q12. Implement a recursive function to compute the nth Fibonacci number."
   ]
  },
  {
   "cell_type": "code",
   "execution_count": 12,
   "id": "23d78fc5",
   "metadata": {},
   "outputs": [
    {
     "name": "stdout",
     "output_type": "stream",
     "text": [
      "Enter num: 6\n",
      "The 6th fibonacci number is  8\n"
     ]
    }
   ],
   "source": [
    "def fibonacci(n):\n",
    "    if n <= 0:\n",
    "        return 0\n",
    "    elif n == 1:\n",
    "        return 1\n",
    "    else:\n",
    "        return fibonacci(n - 1) + fibonacci(n - 2)\n",
    "\n",
    "n = int(input(\"Enter num: \"))\n",
    "result = fibonacci(n)\n",
    "print(f\"The {n}th fibonacci number is \", result)"
   ]
  },
  {
   "cell_type": "markdown",
   "id": "3c5f3666",
   "metadata": {},
   "source": [
    "### Q13. Create a recursive function to find the sum of all the elements in a given list."
   ]
  },
  {
   "cell_type": "code",
   "execution_count": 13,
   "id": "439cf6d4",
   "metadata": {},
   "outputs": [
    {
     "name": "stdout",
     "output_type": "stream",
     "text": [
      "The sum of the elements is: 33\n"
     ]
    }
   ],
   "source": [
    "def list_sum(lst):\n",
    "    if not lst:\n",
    "        return 0\n",
    "    else:\n",
    "        return lst[0] + list_sum(lst[1:])\n",
    "my_list = [3,5,6,9,10]\n",
    "result = list_sum(my_list)\n",
    "print(f\"The sum of the elements is: {result}\")"
   ]
  },
  {
   "cell_type": "markdown",
   "id": "900b118d",
   "metadata": {},
   "source": [
    "### Q14. Write a recursive function to determine whether a given string is a palindrome."
   ]
  },
  {
   "cell_type": "code",
   "execution_count": 14,
   "id": "2e13215e",
   "metadata": {},
   "outputs": [
    {
     "name": "stdout",
     "output_type": "stream",
     "text": [
      "True\n",
      "False\n"
     ]
    }
   ],
   "source": [
    "def is_palindrome(string):\n",
    "    if len(string) <= 1:\n",
    "        return True\n",
    "    else:\n",
    "        if string[0] == string[-1]:\n",
    "            return is_palindrome(string[1:-1])\n",
    "        else:\n",
    "            return False\n",
    "        \n",
    "string1 = \"radar\"\n",
    "string2 = \"hello\"\n",
    "result1 = is_palindrome(string1)\n",
    "result2 = is_palindrome(string2)\n",
    "print(result1) \n",
    "print(result2)"
   ]
  },
  {
   "cell_type": "markdown",
   "id": "b8c4b499",
   "metadata": {},
   "source": [
    "### Q15. Implement a recursive function to find the greatest common divisor (GCD) of two positive integers."
   ]
  },
  {
   "cell_type": "code",
   "execution_count": 15,
   "id": "bd899402",
   "metadata": {},
   "outputs": [
    {
     "name": "stdout",
     "output_type": "stream",
     "text": [
      "The gcd of given numbers is:  12\n"
     ]
    }
   ],
   "source": [
    "def gcd(a, b):\n",
    "    if b == 0:\n",
    "        return a\n",
    "    else:\n",
    "        return gcd(b, a % b)\n",
    "    \n",
    "result = gcd(24, 36)\n",
    "print(\"The gcd of given numbers is: \", result)"
   ]
  }
 ],
 "metadata": {
  "kernelspec": {
   "display_name": "Python 3 (ipykernel)",
   "language": "python",
   "name": "python3"
  },
  "language_info": {
   "codemirror_mode": {
    "name": "ipython",
    "version": 3
   },
   "file_extension": ".py",
   "mimetype": "text/x-python",
   "name": "python",
   "nbconvert_exporter": "python",
   "pygments_lexer": "ipython3",
   "version": "3.11.3"
  }
 },
 "nbformat": 4,
 "nbformat_minor": 5
}
